{
 "cells": [
  {
   "cell_type": "code",
   "execution_count": 9,
   "metadata": {},
   "outputs": [
    {
     "name": "stdout",
     "output_type": "stream",
     "text": [
      "Please pick a marker 'X' or 'O'\n",
      "X\n",
      "Enter the maker X or O\n",
      "X\n",
      "Enter the position from 0 to 1\n",
      "0\n",
      "   |   |   \n",
      "X  | 2 | 3\n",
      "---|---|---\n",
      "4  | 5 | 6\n",
      "---|---|---\n",
      "7  | 8 | 9\n",
      "   |   |   \n",
      "Player_1 is the Winner\n"
     ]
    }
   ],
   "source": [
    "player_1=None\n",
    "player_2=None\n",
    "while player_1!='X'and player_1!='O':\n",
    "    player_1=str(input(\"Please pick a marker 'X' or 'O'\\n\"))\n",
    "if player_1=='X':\n",
    "    player_2=\"O\"\n",
    "else:\n",
    "    player_2=\"X\"\n",
    "from IPython.display import clear_output\n",
    "board=[\"1\",\"2\",\"3\",\"4\",\"5\",\"6\",\"7\",\"8\",\"9\"]\n",
    "def display_board(board):\n",
    "    print('   |   |   ')\n",
    "    print(board[0],' |',board[1],'|',board[2])\n",
    "    print('---|---|---')\n",
    "    print(board[3],' |',board[4],'|',board[5])\n",
    "    print('---|---|---')\n",
    "    print(board[6],' |',board[7],'|',board[8])\n",
    "    print('   |   |   ')\n",
    "    \n",
    "def space_check(board, position):\n",
    "    if board[position]!='X' and board[position]!='O':\n",
    "        return 'a'\n",
    "    else:\n",
    "        return 'b'\n",
    "def full_board_check(board):\n",
    "    for i in range(0,9):\n",
    "        if board[i]==\"X\" or board[i]==\"O\":\n",
    "            return \"b\"\n",
    "def place_marker(board, marker, position):\n",
    "    if space_check(board,position)=='a':\n",
    "        if marker=='X' or marker==\"O\":\n",
    "            board[position\n",
    "                 ]=marker\n",
    "        elif space_check(board,position)=='b':\n",
    "            print(\"INVALID INPUT\")\n",
    "    else:\n",
    "        print('Please choose some other position')\n",
    "def win_check(board,player_1,player_2):\n",
    "    if player_1==\"X\" and player_2==\"O\":\n",
    "        if (board[0]==\"X\" and board[3]==\"X\" and board[6]==\"X\") or (board[1]==\"X\" and board[4]==\"X\" and board[7]==\"X\") or (board[2]==\"X\" and board[5]==\"X\" and board[8]==\"X\") or (board[0]==\"X\" and board[1]==\"X\" and board[2]==\"X\") or (board[3]==\"X\" and  board[4]==\"X\" and board[5]==\"X\") or (board[6]==\"X\" and board[7]==\"X\" and board[8]==\"X\") or (board[2]==\"X\" and board[4]==\"X\" and board[6]==\"X\") or (board[0]==\"X\" or board[4]==\"X\" or board[8]==\"X\"):\n",
    "            print(\"Player_1 is the Winner\")\n",
    "            return 'k'\n",
    "        elif (board[0]==\"O\" and board[3]==\"O\" and board[6]==\"O\") or (board[1]==\"O\" and board[4]==\"O\" and board[7]==\"O\") or (board[2]==\"O\" and board[5]==\"O\" and board[8]==\"O\") or (board[0]==\"O\" and board[1]==\"O\" and board[2]==\"O\") or (board[3]==\"O\" and  board[4]==\"O\" and board[5]==\"O\") or (board[6]==\"O\" and board[7]==\"O\" and board[8]==\"O\") or (board[2]==\"O\" and board[4]==\"O\" and board[6]==\"O\") or (board[0]==\"O\" or board[4]==\"O\" or board[8]==\"O\"):\n",
    "            print(\"Player_2 is the Winner\")\n",
    "            return 'k'\n",
    "    elif player_1==\"O\" and player_2==\"X\":\n",
    "        if (board[0]==\"X\" and board[3]==\"X\" and board[6]==\"X\") or (board[1]==\"X\" and board[4]==\"X\" and board[7]==\"X\") or (board[2]==\"X\" and board[5]==\"X\" and board[8]==\"X\") or (board[0]==\"X\" and board[1]==\"X\" and board[2]==\"X\") or (board[3]==\"X\" and  board[4]==\"X\" and board[5]==\"X\") or (board[6]==\"X\" and board[7]==\"X\" and board[8]==\"X\") or (board[2]==\"X\" and board[4]==\"X\" and board[6]==\"X\") or (board[0]==\"X\" or board[4]==\"X\" or board[8]==\"X\"):\n",
    "            print(\"Player_2 is the Winner\")\n",
    "            return 'k'\n",
    "        elif (board[0]==\"O\" and board[3]==\"O\" and board[6]==\"O\") or (board[1]==\"O\" and board[4]==\"O\" and board[7]==\"O\") or (board[2]==\"O\" and board[5]==\"O\" and board[8]==\"O\") or (board[0]==\"O\" and board[1]==\"O\" and board[2]==\"O\") or (board[3]==\"O\" and  board[4]==\"O\" and board[5]==\"O\") or (board[6]==\"O\" and board[7]==\"O\" and board[8]==\"O\") or (board[2]==\"O\" and board[4]==\"O\" and board[6]==\"O\") or (board[0]==\"O\" or board[4]==\"O\" or board[8]==\"O\"):\n",
    "            print(\"Player_1 is the Winner\")\n",
    "            return 'k'\n",
    "    elif full_board_check(board)=='b':\n",
    "        print(\"No points! It's a Draw\")\n",
    "        return 'k'\n",
    "while True:\n",
    "    marker=input(\"Enter the maker X or O\\n\")\n",
    "    position=int(input(\"Enter the position from 0 to 1\\n\"))\n",
    "    place_marker(board,marker,position)\n",
    "    display_board(board)\n",
    "    if win_check(board,player_1,player_2)=='k':\n",
    "        win_check(board,player_1,player_2)\n",
    "        break"
   ]
  },
  {
   "cell_type": "code",
   "execution_count": null,
   "metadata": {},
   "outputs": [],
   "source": []
  }
 ],
 "metadata": {
  "kernelspec": {
   "display_name": "Python 3",
   "language": "python",
   "name": "python3"
  },
  "language_info": {
   "codemirror_mode": {
    "name": "ipython",
    "version": 3
   },
   "file_extension": ".py",
   "mimetype": "text/x-python",
   "name": "python",
   "nbconvert_exporter": "python",
   "pygments_lexer": "ipython3",
   "version": "3.8.3"
  }
 },
 "nbformat": 4,
 "nbformat_minor": 4
}
